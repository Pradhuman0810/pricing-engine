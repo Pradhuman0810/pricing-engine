{
 "cells": [
  {
   "cell_type": "code",
   "execution_count": 24,
   "id": "27036e3a-e128-479b-80d8-5c2141fd264a",
   "metadata": {},
   "outputs": [],
   "source": [
    "#importing libraries\n",
    "import pandas as pd\n",
    "import numpy as np"
   ]
  },
  {
   "cell_type": "code",
   "execution_count": 25,
   "id": "cd436637-b69b-4004-b20b-12beec652ae6",
   "metadata": {},
   "outputs": [
    {
     "data": {
      "text/html": [
       "<div>\n",
       "<style scoped>\n",
       "    .dataframe tbody tr th:only-of-type {\n",
       "        vertical-align: middle;\n",
       "    }\n",
       "\n",
       "    .dataframe tbody tr th {\n",
       "        vertical-align: top;\n",
       "    }\n",
       "\n",
       "    .dataframe thead th {\n",
       "        text-align: right;\n",
       "    }\n",
       "</style>\n",
       "<table border=\"1\" class=\"dataframe\">\n",
       "  <thead>\n",
       "    <tr style=\"text-align: right;\">\n",
       "      <th></th>\n",
       "      <th>sku</th>\n",
       "      <th>name</th>\n",
       "      <th>current_price</th>\n",
       "      <th>cost_price</th>\n",
       "      <th>stock</th>\n",
       "    </tr>\n",
       "  </thead>\n",
       "  <tbody>\n",
       "    <tr>\n",
       "      <th>0</th>\n",
       "      <td>A123</td>\n",
       "      <td>Item A</td>\n",
       "      <td>649.99</td>\n",
       "      <td>500</td>\n",
       "      <td>150</td>\n",
       "    </tr>\n",
       "    <tr>\n",
       "      <th>1</th>\n",
       "      <td>B456</td>\n",
       "      <td>Item B</td>\n",
       "      <td>699.00</td>\n",
       "      <td>550</td>\n",
       "      <td>15</td>\n",
       "    </tr>\n",
       "    <tr>\n",
       "      <th>2</th>\n",
       "      <td>C789</td>\n",
       "      <td>Item C</td>\n",
       "      <td>999.00</td>\n",
       "      <td>500</td>\n",
       "      <td>250</td>\n",
       "    </tr>\n",
       "  </tbody>\n",
       "</table>\n",
       "</div>"
      ],
      "text/plain": [
       "    sku    name  current_price  cost_price  stock\n",
       "0  A123  Item A         649.99         500    150\n",
       "1  B456  Item B         699.00         550     15\n",
       "2  C789  Item C         999.00         500    250"
      ]
     },
     "execution_count": 25,
     "metadata": {},
     "output_type": "execute_result"
    }
   ],
   "source": [
    "#importing data\n",
    "products_df = pd.read_csv(\"products.csv\")\n",
    "sales_df = pd.read_csv(\"sales.csv\")\n",
    "#data of products\n",
    "products_df"
   ]
  },
  {
   "cell_type": "code",
   "execution_count": 26,
   "id": "bfd92a0d-8886-4b59-b6b7-a89bd615a3eb",
   "metadata": {},
   "outputs": [
    {
     "data": {
      "text/html": [
       "<div>\n",
       "<style scoped>\n",
       "    .dataframe tbody tr th:only-of-type {\n",
       "        vertical-align: middle;\n",
       "    }\n",
       "\n",
       "    .dataframe tbody tr th {\n",
       "        vertical-align: top;\n",
       "    }\n",
       "\n",
       "    .dataframe thead th {\n",
       "        text-align: right;\n",
       "    }\n",
       "</style>\n",
       "<table border=\"1\" class=\"dataframe\">\n",
       "  <thead>\n",
       "    <tr style=\"text-align: right;\">\n",
       "      <th></th>\n",
       "      <th>sku</th>\n",
       "      <th>quantity_sold</th>\n",
       "    </tr>\n",
       "  </thead>\n",
       "  <tbody>\n",
       "    <tr>\n",
       "      <th>0</th>\n",
       "      <td>A123</td>\n",
       "      <td>10</td>\n",
       "    </tr>\n",
       "    <tr>\n",
       "      <th>1</th>\n",
       "      <td>B456</td>\n",
       "      <td>35</td>\n",
       "    </tr>\n",
       "    <tr>\n",
       "      <th>2</th>\n",
       "      <td>C789</td>\n",
       "      <td>0</td>\n",
       "    </tr>\n",
       "  </tbody>\n",
       "</table>\n",
       "</div>"
      ],
      "text/plain": [
       "    sku  quantity_sold\n",
       "0  A123             10\n",
       "1  B456             35\n",
       "2  C789              0"
      ]
     },
     "execution_count": 26,
     "metadata": {},
     "output_type": "execute_result"
    }
   ],
   "source": [
    "#sales data\n",
    "sales_df"
   ]
  },
  {
   "cell_type": "code",
   "execution_count": 27,
   "id": "0449b481-eb6d-4fd7-81db-8e4120f3fe9a",
   "metadata": {},
   "outputs": [
    {
     "data": {
      "text/html": [
       "<div>\n",
       "<style scoped>\n",
       "    .dataframe tbody tr th:only-of-type {\n",
       "        vertical-align: middle;\n",
       "    }\n",
       "\n",
       "    .dataframe tbody tr th {\n",
       "        vertical-align: top;\n",
       "    }\n",
       "\n",
       "    .dataframe thead th {\n",
       "        text-align: right;\n",
       "    }\n",
       "</style>\n",
       "<table border=\"1\" class=\"dataframe\">\n",
       "  <thead>\n",
       "    <tr style=\"text-align: right;\">\n",
       "      <th></th>\n",
       "      <th>sku</th>\n",
       "      <th>name</th>\n",
       "      <th>current_price</th>\n",
       "      <th>cost_price</th>\n",
       "      <th>stock</th>\n",
       "      <th>quantity_sold</th>\n",
       "    </tr>\n",
       "  </thead>\n",
       "  <tbody>\n",
       "    <tr>\n",
       "      <th>0</th>\n",
       "      <td>A123</td>\n",
       "      <td>Item A</td>\n",
       "      <td>649.99</td>\n",
       "      <td>500</td>\n",
       "      <td>150</td>\n",
       "      <td>10</td>\n",
       "    </tr>\n",
       "    <tr>\n",
       "      <th>1</th>\n",
       "      <td>B456</td>\n",
       "      <td>Item B</td>\n",
       "      <td>699.00</td>\n",
       "      <td>550</td>\n",
       "      <td>15</td>\n",
       "      <td>35</td>\n",
       "    </tr>\n",
       "    <tr>\n",
       "      <th>2</th>\n",
       "      <td>C789</td>\n",
       "      <td>Item C</td>\n",
       "      <td>999.00</td>\n",
       "      <td>500</td>\n",
       "      <td>250</td>\n",
       "      <td>0</td>\n",
       "    </tr>\n",
       "  </tbody>\n",
       "</table>\n",
       "</div>"
      ],
      "text/plain": [
       "    sku    name  current_price  cost_price  stock  quantity_sold\n",
       "0  A123  Item A         649.99         500    150             10\n",
       "1  B456  Item B         699.00         550     15             35\n",
       "2  C789  Item C         999.00         500    250              0"
      ]
     },
     "execution_count": 27,
     "metadata": {},
     "output_type": "execute_result"
    }
   ],
   "source": [
    "#merging data for better understanding\n",
    "merged_df = pd.merge(products_df, sales_df, on=\"sku\", how=\"left\")\n",
    "merged_df"
   ]
  },
  {
   "cell_type": "code",
   "execution_count": 28,
   "id": "06472a30-2de0-4e83-9ac4-ecfa15111508",
   "metadata": {},
   "outputs": [],
   "source": [
    "#calculating new price as per question\n",
    "def apply_pricing_rules(row):\n",
    "    old_price = row['current_price']\n",
    "    cost_price = row['cost_price']\n",
    "    stock = row['stock']\n",
    "    quantity_sold = row['quantity_sold']\n",
    "    new_price = old_price \n",
    "     # Rule 1 – Low Stock, High Demand\n",
    "    if stock < 20 and quantity_sold > 30:\n",
    "        new_price = old_price * 1.15\n",
    "    # Rule 2 – Dead Stock\n",
    "    elif stock > 200 and quantity_sold == 0:\n",
    "        new_price = old_price * 0.70\n",
    "     # Rule 3 – Overstocked Inventory\n",
    "    elif stock > 100 and quantity_sold < 20:\n",
    "        new_price = old_price * 0.90\n",
    "    # Rule 4 - minimum profit constraint\n",
    "    else:\n",
    "        minimum_price = cost_price * 1.20\n",
    "        if new_price < minimum_price:\n",
    "            new_price = minimum_price\n",
    "\n",
    "    return f\"₹{round(old_price, 2)}\", f\"₹{round(new_price, 2)}\""
   ]
  },
  {
   "cell_type": "code",
   "execution_count": 29,
   "id": "c3b0262d-c988-49d2-b384-d21da1e086d7",
   "metadata": {},
   "outputs": [
    {
     "data": {
      "text/html": [
       "<div>\n",
       "<style scoped>\n",
       "    .dataframe tbody tr th:only-of-type {\n",
       "        vertical-align: middle;\n",
       "    }\n",
       "\n",
       "    .dataframe tbody tr th {\n",
       "        vertical-align: top;\n",
       "    }\n",
       "\n",
       "    .dataframe thead th {\n",
       "        text-align: right;\n",
       "    }\n",
       "</style>\n",
       "<table border=\"1\" class=\"dataframe\">\n",
       "  <thead>\n",
       "    <tr style=\"text-align: right;\">\n",
       "      <th></th>\n",
       "      <th>sku</th>\n",
       "      <th>name</th>\n",
       "      <th>current_price</th>\n",
       "      <th>cost_price</th>\n",
       "      <th>stock</th>\n",
       "      <th>quantity_sold</th>\n",
       "      <th>old_price</th>\n",
       "      <th>new_price</th>\n",
       "    </tr>\n",
       "  </thead>\n",
       "  <tbody>\n",
       "    <tr>\n",
       "      <th>0</th>\n",
       "      <td>A123</td>\n",
       "      <td>Item A</td>\n",
       "      <td>649.99</td>\n",
       "      <td>500</td>\n",
       "      <td>150</td>\n",
       "      <td>10</td>\n",
       "      <td>₹649.99</td>\n",
       "      <td>₹584.99</td>\n",
       "    </tr>\n",
       "    <tr>\n",
       "      <th>1</th>\n",
       "      <td>B456</td>\n",
       "      <td>Item B</td>\n",
       "      <td>699.00</td>\n",
       "      <td>550</td>\n",
       "      <td>15</td>\n",
       "      <td>35</td>\n",
       "      <td>₹699.0</td>\n",
       "      <td>₹803.85</td>\n",
       "    </tr>\n",
       "    <tr>\n",
       "      <th>2</th>\n",
       "      <td>C789</td>\n",
       "      <td>Item C</td>\n",
       "      <td>999.00</td>\n",
       "      <td>500</td>\n",
       "      <td>250</td>\n",
       "      <td>0</td>\n",
       "      <td>₹999.0</td>\n",
       "      <td>₹699.3</td>\n",
       "    </tr>\n",
       "  </tbody>\n",
       "</table>\n",
       "</div>"
      ],
      "text/plain": [
       "    sku    name  current_price  cost_price  stock  quantity_sold old_price  \\\n",
       "0  A123  Item A         649.99         500    150             10   ₹649.99   \n",
       "1  B456  Item B         699.00         550     15             35    ₹699.0   \n",
       "2  C789  Item C         999.00         500    250              0    ₹999.0   \n",
       "\n",
       "  new_price  \n",
       "0   ₹584.99  \n",
       "1   ₹803.85  \n",
       "2    ₹699.3  "
      ]
     },
     "execution_count": 29,
     "metadata": {},
     "output_type": "execute_result"
    }
   ],
   "source": [
    "# Apply pricing logic\n",
    "merged_df[[\"old_price\", \"new_price\"]] = merged_df.apply(apply_pricing_rules, axis=1, result_type=\"expand\")\n",
    "merged_df"
   ]
  },
  {
   "cell_type": "code",
   "execution_count": 30,
   "id": "adb8a7f7-d4df-42d3-b289-a323ee5a7030",
   "metadata": {},
   "outputs": [
    {
     "data": {
      "text/html": [
       "<div>\n",
       "<style scoped>\n",
       "    .dataframe tbody tr th:only-of-type {\n",
       "        vertical-align: middle;\n",
       "    }\n",
       "\n",
       "    .dataframe tbody tr th {\n",
       "        vertical-align: top;\n",
       "    }\n",
       "\n",
       "    .dataframe thead th {\n",
       "        text-align: right;\n",
       "    }\n",
       "</style>\n",
       "<table border=\"1\" class=\"dataframe\">\n",
       "  <thead>\n",
       "    <tr style=\"text-align: right;\">\n",
       "      <th></th>\n",
       "      <th>sku</th>\n",
       "      <th>old_price</th>\n",
       "      <th>new_price</th>\n",
       "    </tr>\n",
       "  </thead>\n",
       "  <tbody>\n",
       "    <tr>\n",
       "      <th>0</th>\n",
       "      <td>A123</td>\n",
       "      <td>₹649.99</td>\n",
       "      <td>₹584.99</td>\n",
       "    </tr>\n",
       "    <tr>\n",
       "      <th>1</th>\n",
       "      <td>B456</td>\n",
       "      <td>₹699.0</td>\n",
       "      <td>₹803.85</td>\n",
       "    </tr>\n",
       "    <tr>\n",
       "      <th>2</th>\n",
       "      <td>C789</td>\n",
       "      <td>₹999.0</td>\n",
       "      <td>₹699.3</td>\n",
       "    </tr>\n",
       "  </tbody>\n",
       "</table>\n",
       "</div>"
      ],
      "text/plain": [
       "    sku old_price new_price\n",
       "0  A123   ₹649.99   ₹584.99\n",
       "1  B456    ₹699.0   ₹803.85\n",
       "2  C789    ₹999.0    ₹699.3"
      ]
     },
     "execution_count": 30,
     "metadata": {},
     "output_type": "execute_result"
    }
   ],
   "source": [
    "# result output\n",
    "output_df = merged_df[[\"sku\", \"old_price\", \"new_price\"]]\n",
    "output_df"
   ]
  },
  {
   "cell_type": "code",
   "execution_count": 31,
   "id": "e5d4a0ca-9e0c-4bb4-8611-84c2ae3e8a5e",
   "metadata": {},
   "outputs": [
    {
     "name": "stdout",
     "output_type": "stream",
     "text": [
      "new pricing saved to updated_prices csv file\n"
     ]
    }
   ],
   "source": [
    "# to csv file\n",
    "output_df.to_csv(\"updated_prices.csv\", index=False)\n",
    "print( \"new pricing saved to updated_prices csv file\")"
   ]
  },
  {
   "cell_type": "code",
   "execution_count": null,
   "id": "39772ae9-556c-4156-b6d9-8ce9f7de4b00",
   "metadata": {},
   "outputs": [],
   "source": []
  }
 ],
 "metadata": {
  "kernelspec": {
   "display_name": "Python 3 (ipykernel)",
   "language": "python",
   "name": "python3"
  },
  "language_info": {
   "codemirror_mode": {
    "name": "ipython",
    "version": 3
   },
   "file_extension": ".py",
   "mimetype": "text/x-python",
   "name": "python",
   "nbconvert_exporter": "python",
   "pygments_lexer": "ipython3",
   "version": "3.11.7"
  }
 },
 "nbformat": 4,
 "nbformat_minor": 5
}
